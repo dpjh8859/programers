{
 "cells": [
  {
   "cell_type": "code",
   "execution_count": 1,
   "metadata": {},
   "outputs": [
    {
     "name": "stdout",
     "output_type": "stream",
     "text": [
      "0\n",
      "1\n",
      "2\n",
      "3\n",
      "4\n",
      "5\n",
      "6\n",
      "7\n",
      "8\n",
      "9\n",
      "10\n"
     ]
    }
   ],
   "source": [
    "#외벽의 길이 n\n",
    "#취약 지점의 위치가 담긴 배열 weak\n",
    "#각 친구가 1시간 동안 이동할 수 있는거리가 담긴 배열 dist\n",
    "\n",
    "#외벽을 점검하는데\n",
    "\n",
    "n = 4 \n",
    "weak = [1,5,6,10]\n",
    "dist = [1,2,3,4]\n",
    "\n",
    "def solution(n, weak, dist):\n",
    "    answer = 0\n",
    "    return answer\n",
    "\n",
    "\n",
    "# 배열의 길이가 12인 리스트 하나 생성 \n",
    "\n",
    "for i in range(11):\n",
    "    print(i)\n",
    "\n",
    "def soulutrion (self,name):\n",
    "    "
   ]
  },
  {
   "cell_type": "code",
   "execution_count": null,
   "metadata": {},
   "outputs": [],
   "source": [
    "from itertools import permutations\n",
    "# itertools 라이브라러 사용 \n",
    "\n",
    "def solution(n, weak, dist):\n",
    "    weak_n = len(weak)\n",
    "    dist_n = len(dist)\n",
    "    for i in range(weak_n): # 반시계 방향을 선형으로 만들기\n",
    "        weak.append(weak[i] + n)\n",
    "\n",
    "    answer = dist_n + 1\n",
    "    dist_list = list(permutations(dist, dist_n)) # 순열을 이용하여 친구들의 거리를 정렬하는 모든 경우의 수 저장!\n",
    "6\n",
    "    for j in range(weak_n):\n",
    "        # test_weak : 시작할 j를 정해 체크 가능한 성벽 리스트를 저장한다.\n",
    "        test_weak = [weak[k] for k in range(j, j + weak_n)]\n",
    "        for d in range(len(dist_list)): # 친구들의 정렬에 따른 모든 경우 체크!\n",
    "            # 초기 설정\n",
    "            friend_idx = 0\n",
    "            cnt = 1\n",
    "            friend_max_d = test_weak[0] + dist_list[d][0] # 첫번째 친구가 이동할 수 있는 최대 거리\n",
    "            flag = True\n",
    "            # 외벽 점검 가능한지 확인하는 부분\n",
    "            for w in range(weak_n):\n",
    "                if test_weak[w] > friend_max_d: # 확인할 수 있는 거리를 넘은 경우\n",
    "                    friend_idx += 1 # 다음 친구 투입!\n",
    "                    cnt += 1\n",
    "                    if cnt > dist_n: # 투입할 친구가 없는 경우\n",
    "                        flag = False\n",
    "                        break\n",
    "                    friend_max_d = test_weak[w] + dist_list[d][friend_idx] # 최대 확인할 수 있는 거리 갱신\n",
    "            if flag and answer > cnt:\n",
    "                answer = cnt\n",
    "    if answer == dist_n + 1: answer = -1 # 외벽 점검이 불가능한 경우 -1로 출력할 조건\n",
    "    return answer"
   ]
  },
  {
   "cell_type": "code",
   "execution_count": null,
   "metadata": {},
   "outputs": [],
   "source": [
    "from itertools import permutations\n",
    "# itertools 라이브러리에서 순열을 사용한다 \n",
    "\n",
    "def solution(n, weak, dist):\n",
    "    weak_n = len(weak)\n",
    "    dist_n = len(dist)\n",
    "    for i in range(weak_n): \n",
    "        weak.append(weak[i] + n)\n",
    " # 취약 지점을 반시계 방향으로 회전하여 선형으로 만듦 , 원형구조를 선형구조로 만든다 \n",
    "\n",
    "    answer = dist_n + 1\n",
    "    # answer 값을 친구의 수보다 하나 더 큰값으로 설정한다 \n",
    "    dist_list = list(permutations(dist, dist_n)) \n",
    "    # 순열을 사용해 이동 이동 가능한 모든 조합을 순열로 생성해 리스트에 저장한다 \n",
    "    for j in range(weak_n):\n",
    "      \n",
    "        test_weak = [weak[k] for k in range(j, j + weak_n)]\n",
    "        for d in range(len(dist_list)): \n",
    "          \n",
    "            friend_idx = 0\n",
    "            cnt = 1\n",
    "            friend_max_d = test_weak[0] + dist_list[d][0]\n",
    "            flag = True\n",
    "\n",
    "            for w in range(weak_n):\n",
    "                if test_weak[w] > friend_max_d: \n",
    "                    friend_idx += 1 \n",
    "                    cnt += 1\n",
    "                    if cnt > dist_n:\n",
    "                        flag = False\n",
    "                        break\n",
    "                    friend_max_d = test_weak[w] + dist_list[d][friend_idx] \n",
    "            if flag and answer > cnt:\n",
    "                answer = cnt\n",
    "    if answer == dist_n + 1: answer = -1\n",
    "\n",
    "    return answer\n"
   ]
  },
  {
   "cell_type": "code",
   "execution_count": null,
   "metadata": {},
   "outputs": [],
   "source": []
  }
 ],
 "metadata": {
  "kernelspec": {
   "display_name": "Python 3",
   "language": "python",
   "name": "python3"
  },
  "language_info": {
   "codemirror_mode": {
    "name": "ipython",
    "version": 3
   },
   "file_extension": ".py",
   "mimetype": "text/x-python",
   "name": "python",
   "nbconvert_exporter": "python",
   "pygments_lexer": "ipython3",
   "version": "3.11.4"
  },
  "orig_nbformat": 4
 },
 "nbformat": 4,
 "nbformat_minor": 2
}
