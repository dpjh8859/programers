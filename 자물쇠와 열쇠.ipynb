{
 "cells": [
  {
   "cell_type": "code",
   "execution_count": 1,
   "metadata": {},
   "outputs": [
    {
     "name": "stdout",
     "output_type": "stream",
     "text": [
      "10\n"
     ]
    }
   ],
   "source": [
    "def solution(board, skill):\n",
    "    answer = 0\n",
    "    bo = board\n",
    "    for s in skill:\n",
    "        if s[0] == 1:\n",
    "            for i in range(s[1], s[3] + 1):\n",
    "                for j in range(s[2], s[4] + 1):\n",
    "                    bo[i][j] -= s[5]\n",
    "\n",
    "        elif s[0] == 2:\n",
    "            for i in range(s[1], s[3] + 1):\n",
    "                for j in range(s[2], s[4] + 1):\n",
    "                    bo[i][j] += s[5]\n",
    "    \n",
    "    for i in range(len(bo)):\n",
    "            for j in range(len(bo[0])):\n",
    "                if bo[i][j]+bo[i][j]>0: answer+=1\n",
    "\n",
    "    return answer\n",
    "print(solution([[5,5,5,5,5],[5,5,5,5,5],[5,5,5,5,5],[5,5,5,5,5]],\n",
    "               [[1,0,0,3,4,4],[1,2,0,2,3,2],[2,1,0,3,1,2],[1,0,1,3,3,1]]))"
   ]
  },
  {
   "cell_type": "code",
   "execution_count": null,
   "metadata": {},
   "outputs": [],
   "source": [
    "# 함수: 주어진 열쇠(key)로 주어진 자물쇠(lock)를 열 수 있는지 확인하는 함수\n",
    "def solution(key, lock):\n",
    "    N = len(lock)  # 자물쇠의 크기\n",
    "    v, vac = vacant(lock)  # 빈 공간의 개수와 좌표를 반환하는 함수 호출\n",
    "    if not vac:  # 빈 공간이 없다면 이미 열려있는 상태\n",
    "        return True\n",
    "    vac = vac[0]  # 빈 공간 중 첫 번째 좌표 선택\n",
    "    find = False  # 열쇠로 자물쇠를 열 수 있는 경우를 찾기 위한 플래그 초기화\n",
    "    for key in rotate(key):  # 열쇠를 회전한 모든 경우에 대해 반복\n",
    "        for i in range(len(key)):  # 열쇠의 모든 부분에 대해 반복\n",
    "            cnt = 0  # 일치하는 개수 초기화\n",
    "            rr, cc = vac[0] - key[i][0], vac[1] - key[i][1]  # 자물쇠의 빈 공간에 열쇠의 부분을 맞추기 위한 이동 값 계산\n",
    "            for j in range(i, len(key)):  # 현재 열쇠 부분부터 끝까지 반복\n",
    "                r, c = key[j]  # 열쇠 부분의 좌표\n",
    "                r, c = r + rr, c + cc  # 열쇠를 이동하여 자물쇠에 맞춘 위치 계산\n",
    "                if not (0 <= r < N and 0 <= c < N):  # 자물쇠 범위를 벗어나면 다음으로\n",
    "                    continue\n",
    "                if lock[r][c] == 1:  # 열쇠 부분과 자물쇠 부분이 겹치는 경우\n",
    "                    break  # 더 이상 확인할 필요 없으므로 중단\n",
    "                cnt += 1  # 자물쇠와 열쇠 부분이 일치하는 경우 카운트 증가\n",
    "            if cnt == v:  # 일치하는 개수가 빈 공간의 개수와 같으면\n",
    "                find = True  # 열쇠로 자물쇠를 열 수 있는 경우를 찾았음을 표시\n",
    "                break  # 더 이상 회전하지 않고 중단\n",
    "        if find:  # 열쇠로 자물쇠를 열 수 있는 경우를 찾았으면\n",
    "            break  # 더 이상 회전하지 않고 중단\n",
    "    if find:  # 열쇠로 자물쇠를 열 수 있는 경우를 찾았으면\n",
    "        return True  # True 반환\n",
    "    return False  # 모든 경우를 확인한 후에도 열 수 없는 경우는 False 반환\n",
    "\n",
    "# 함수: 자물쇠의 빈 공간 개수와 좌표를 반환하는 함수\n",
    "def vacant(lock):\n",
    "    N = len(lock)  # 자물쇠의 크기\n",
    "    vac = []  # 빈 공간의 좌표를 저장할 리스트\n",
    "    v = 0  # 빈 공간 개수 초기화\n",
    "    for r in range(N):\n",
    "        for c in range(N):\n",
    "            if lock[r][c] == 0:  # 자물쇠의 빈 공간인 경우\n",
    "                vac.append((r, c))  # 빈 공간의 좌표를 리스트에 추가\n",
    "                v += 1  # 빈 공간 개수 증가\n",
    "    return v, vac  # 빈 공간 개수와 좌표 리스트 반환\n",
    "\n",
    "# 함수: 열쇠를 90도씩 회전하여 가능한 경우의 열쇠 모양을 반환하는 함수\n",
    "def rotate(key):\n",
    "    M = len(key)  # 열쇠의 크기\n",
    "    # 열쇠의 각 부분을 좌표로 표현하는 리스트 생성\n",
    "    key1 = [(r, c) for r in range(M) for c in range(M) if key[r][c] == 1]\n",
    "    key2 = [(M - r - 1, c) for c, r in key1]\n",
    "    key3 = [(r, M - c - 1) for c, r in key1]\n",
    "    key4 = [(M - r - 1, M - c - 1) for r, c in key1]\n",
    "\n",
    "    # 각 경우에 대한 좌표 리스트를 정렬하여 반환\n",
    "    key1 = quick_sort(key1)\n",
    "    key2 = quick_sort(key2)\n",
    "    key3 = quick_sort(key3)\n",
    "    key4 = quick_sort(key4)\n",
    "\n",
    "    return key1, key2, key3, key4\n",
    "\n",
    "# 함수: 좌표 리스트를 빠른 정렬을 통해 정렬하는 함수\n",
    "def quick_sort(arr):\n",
    "    if not arr:  # 리스트가 비어있으면 빈 리스트 반환\n",
    "        return []\n",
    "    pivot = arr[len(arr) // 2]  # 중간 원소를 피벗으로 선택\n",
    "    lesser, equal, greater = [], [pivot], []  # 피벗보다 작은 원소, 피벗과 같은 원소, 피벗보다 큰 원소를 저장할 리스트 생성\n",
    "\n",
    "    for pos in arr:\n",
    "        if pos[0] < pivot[0]:  # 피벗보다 작은 경우\n",
    "            lesser.append(pos)  # lesser 리스트에 추가\n",
    "        elif pos[0] > pivot[0]:  # 피벗보다 큰 경우\n",
    "            greater.append(pos)  # greater 리스트에 추가\n",
    "        else:  # 피벗과 같은 경우\n",
    "            if pos[1] < pivot[1]:  # 두 번째 원소로 비교\n",
    "                lesser.append(pos)\n",
    "            elif pos[1] > pivot[1]:\n",
    "                greater.append(pos)\n",
    "\n",
    "    # 재귀적으로 작은 원소 리스트, 피벗 리스트, 큰\n"
   ]
  },
  {
   "cell_type": "code",
   "execution_count": 6,
   "metadata": {},
   "outputs": [
    {
     "name": "stdout",
     "output_type": "stream",
     "text": [
      "<map object at 0x10f66f8b0>\n"
     ]
    }
   ],
   "source": [
    "n = map(int,input().split())\n",
    "\n",
    "list(n)\n",
    "print(n)\n"
   ]
  },
  {
   "cell_type": "code",
   "execution_count": null,
   "metadata": {},
   "outputs": [],
   "source": []
  }
 ],
 "metadata": {
  "kernelspec": {
   "display_name": "Python 3",
   "language": "python",
   "name": "python3"
  },
  "language_info": {
   "codemirror_mode": {
    "name": "ipython",
    "version": 3
   },
   "file_extension": ".py",
   "mimetype": "text/x-python",
   "name": "python",
   "nbconvert_exporter": "python",
   "pygments_lexer": "ipython3",
   "version": "3.11.4"
  },
  "orig_nbformat": 4
 },
 "nbformat": 4,
 "nbformat_minor": 2
}
