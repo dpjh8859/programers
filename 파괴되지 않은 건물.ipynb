{
 "cells": [
  {
   "cell_type": "code",
   "execution_count": null,
   "metadata": {},
   "outputs": [],
   "source": [
    "def solution(board, skill):\n",
    "    aa = \n",
    "    answer = 0\n",
    "\n",
    "\n",
    "    return answer\n",
    "\n",
    "\n",
    "board = [[5,5,5,5,5],[5,5,5,5,5],[5,5,5,5,5],[5,5,5,5,5]\n",
    "skill = [[1,0,0,3,4,4],[1,2,0,2,3,2],[2,1,0,3,1,2],[1,0,1,3,3,1]]\n",
    "\n",
    "# 시간 복잡도 O(n*m)\n",
    "# 누적합 사용 \n",
    "# 무지성으로 풀면 무조건 시간초과난다 \n"
   ]
  }
 ],
 "metadata": {
  "language_info": {
   "name": "python"
  },
  "orig_nbformat": 4
 },
 "nbformat": 4,
 "nbformat_minor": 2
}
