{
 "cells": [
  {
   "cell_type": "code",
   "execution_count": null,
   "metadata": {},
   "outputs": [],
   "source": []
  },
  {
   "cell_type": "code",
   "execution_count": 2,
   "metadata": {},
   "outputs": [
    {
     "name": "stdout",
     "output_type": "stream",
     "text": [
      "0\n",
      "aa\n"
     ]
    }
   ],
   "source": [
    "n = int(input())  \n",
    "\n",
    "total = [input() for i in range(n)]  # 단어 입력받고 저장 \n",
    "\n",
    "total = list(set(total))  # set(집합) 으로 변환후 중복 제거\n",
    "\n",
    "total.sort()  # 사전순으로 정렬\n",
    "\n",
    "total.sort(key=len)  # 길이 순으로 정렬\n",
    "\n",
    "for i in total:  #정렬왼거 하나씩 출력\n",
    "    print(i)\n"
   ]
  },
  {
   "cell_type": "code",
   "execution_count": null,
   "metadata": {},
   "outputs": [],
   "source": []
  }
 ],
 "metadata": {
  "kernelspec": {
   "display_name": "Python 3",
   "language": "python",
   "name": "python3"
  },
  "language_info": {
   "codemirror_mode": {
    "name": "ipython",
    "version": 3
   },
   "file_extension": ".py",
   "mimetype": "text/x-python",
   "name": "python",
   "nbconvert_exporter": "python",
   "pygments_lexer": "ipython3",
   "version": "3.11.4"
  },
  "orig_nbformat": 4
 },
 "nbformat": 4,
 "nbformat_minor": 2
}
