{
 "cells": [
  {
   "cell_type": "code",
   "execution_count": null,
   "metadata": {},
   "outputs": [],
   "source": [
    "# https://www.acmicpc.net/problem/1032\n",
    "# 명령 프롬프트\n",
    "\n",
    "\n",
    "num = int(input())\n",
    "test = list(input())\n",
    "\n",
    "\n",
    "for _ in range(num - 1):\n",
    "    exam = input()\n",
    "    for n in range(len(test)):\n",
    "        if test[n] == exam[n]:\n",
    "            continue\n",
    "        else:\n",
    "            test[n] = \"?\"\n",
    "print(*test , sep=\"\")\n",
    "\n",
    "\n"
   ]
  },
  {
   "cell_type": "code",
   "execution_count": 2,
   "metadata": {},
   "outputs": [
    {
     "name": "stdout",
     "output_type": "stream",
     "text": [
      "confi?????\n"
     ]
    }
   ],
   "source": [
    "num = int(input())\n",
    "word = list(input())\n",
    "\n",
    "for _ in range(num-1):\n",
    "    word_2 = input()\n",
    "    for n in range(len(word)):\n",
    "        if word[n] == word_2[n]:\n",
    "            continue\n",
    "        else:\n",
    "            word[n] = \"?\"\n",
    "print(*word, sep = \"\")"
   ]
  },
  {
   "cell_type": "code",
   "execution_count": 5,
   "metadata": {},
   "outputs": [
    {
     "name": "stdout",
     "output_type": "stream",
     "text": [
      "conte?t.txt\n"
     ]
    }
   ],
   "source": [
    "num = int(input())\n",
    "test = list(input())\n",
    "\n",
    "\n",
    "for _ in range(num - 1):\n",
    "    exam = input()\n",
    "    test = ['?' if test[n] != exam[n] else test[n] for n in range(len(test))]\n",
    "\n",
    "print(*test , sep=\"\")\n"
   ]
  },
  {
   "cell_type": "code",
   "execution_count": null,
   "metadata": {},
   "outputs": [],
   "source": []
  }
 ],
 "metadata": {
  "kernelspec": {
   "display_name": "Python 3",
   "language": "python",
   "name": "python3"
  },
  "language_info": {
   "codemirror_mode": {
    "name": "ipython",
    "version": 3
   },
   "file_extension": ".py",
   "mimetype": "text/x-python",
   "name": "python",
   "nbconvert_exporter": "python",
   "pygments_lexer": "ipython3",
   "version": "3.11.4"
  },
  "orig_nbformat": 4
 },
 "nbformat": 4,
 "nbformat_minor": 2
}
