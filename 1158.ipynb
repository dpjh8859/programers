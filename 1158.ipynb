{
 "cells": [
  {
   "cell_type": "code",
   "execution_count": null,
   "metadata": {},
   "outputs": [],
   "source": [
    "N, K = map(int, input().split())  # N과 K를 입력받음\n",
    "\n",
    "a = list(range(1, N + 1))  # 1부터 N까지의 수로 리스트를 생성\n",
    "\n",
    "clear = []  # 제거된 사람들의 순서를 저장할 빈 배열\n",
    "\n",
    "index = 0  # 제거될 사람의 인덱스 번호를 나타내는 변수 초기화\n",
    "\n",
    "for t in range(N):  \n",
    "    index = (index + K - 1) % len(a)  # K번째 사람의 인덱스 계산 \n",
    "    clear.append(str(a.pop(index)))  # K번째 사람을 제거하고 순서를 기록\n",
    "\n",
    "print(\"<\", \", \".join(clear), \">\", sep='')  # 제거된 순서를 출력"
   ]
  }
 ],
 "metadata": {
  "language_info": {
   "name": "python"
  },
  "orig_nbformat": 4
 },
 "nbformat": 4,
 "nbformat_minor": 2
}
